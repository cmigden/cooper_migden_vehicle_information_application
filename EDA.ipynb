{
 "cells": [
  {
   "cell_type": "code",
   "execution_count": 1,
   "id": "a627efd9",
   "metadata": {},
   "outputs": [],
   "source": [
    "import pandas as pd\n",
    "import plotly_express as px\n",
    "import streamlit as st\n",
    "#import needed packages"
   ]
  },
  {
   "cell_type": "code",
   "execution_count": 2,
   "id": "1237d712",
   "metadata": {},
   "outputs": [],
   "source": [
    "data = pd.read_csv('/Users/coopermigden/data_sets/vehicles_us (1).csv')\n",
    "#Brings the data into the program"
   ]
  },
  {
   "cell_type": "code",
   "execution_count": 3,
   "id": "4e8a918a",
   "metadata": {},
   "outputs": [
    {
     "data": {
      "text/plain": [
       "<bound method NDFrame.describe of        price  model_year           model  condition  cylinders fuel  odometer  \\\n",
       "0       9400      2011.0          bmw x5       good        6.0  gas  145000.0   \n",
       "1      25500         NaN      ford f-150       good        6.0  gas   88705.0   \n",
       "2       5500      2013.0  hyundai sonata   like new        4.0  gas  110000.0   \n",
       "3       1500      2003.0      ford f-150       fair        8.0  gas       NaN   \n",
       "4      14900      2017.0    chrysler 200  excellent        4.0  gas   80903.0   \n",
       "...      ...         ...             ...        ...        ...  ...       ...   \n",
       "51520   9249      2013.0   nissan maxima   like new        6.0  gas   88136.0   \n",
       "51521   2700      2002.0     honda civic    salvage        4.0  gas  181500.0   \n",
       "51522   3950      2009.0  hyundai sonata  excellent        4.0  gas  128000.0   \n",
       "51523   7455      2013.0  toyota corolla       good        4.0  gas  139573.0   \n",
       "51524   6300      2014.0   nissan altima       good        4.0  gas       NaN   \n",
       "\n",
       "      transmission    type paint_color  is_4wd date_posted  days_listed  \n",
       "0        automatic     SUV         NaN     1.0  2018-06-23           19  \n",
       "1        automatic  pickup       white     1.0  2018-10-19           50  \n",
       "2        automatic   sedan         red     NaN  2019-02-07           79  \n",
       "3        automatic  pickup         NaN     NaN  2019-03-22            9  \n",
       "4        automatic   sedan       black     NaN  2019-04-02           28  \n",
       "...            ...     ...         ...     ...         ...          ...  \n",
       "51520    automatic   sedan       black     NaN  2018-10-03           37  \n",
       "51521    automatic   sedan       white     NaN  2018-11-14           22  \n",
       "51522    automatic   sedan        blue     NaN  2018-11-15           32  \n",
       "51523    automatic   sedan       black     NaN  2018-07-02           71  \n",
       "51524    automatic   sedan         NaN     NaN  2018-06-05           10  \n",
       "\n",
       "[51525 rows x 13 columns]>"
      ]
     },
     "execution_count": 3,
     "metadata": {},
     "output_type": "execute_result"
    }
   ],
   "source": [
    "data.describe\n",
    "#gives general information about the data and it shows how it looks"
   ]
  },
  {
   "cell_type": "code",
   "execution_count": 4,
   "id": "89f9d8be",
   "metadata": {},
   "outputs": [
    {
     "data": {
      "text/plain": [
       "price               0\n",
       "model_year       3619\n",
       "model               0\n",
       "condition           0\n",
       "cylinders        5260\n",
       "fuel                0\n",
       "odometer         7892\n",
       "transmission        0\n",
       "type                0\n",
       "paint_color      9267\n",
       "is_4wd          25953\n",
       "date_posted         0\n",
       "days_listed         0\n",
       "dtype: int64"
      ]
     },
     "execution_count": 4,
     "metadata": {},
     "output_type": "execute_result"
    }
   ],
   "source": [
    "data.isna().sum()\n",
    "#shows the amount of unknown values in each column"
   ]
  },
  {
   "cell_type": "code",
   "execution_count": 5,
   "id": "55d4da5d",
   "metadata": {},
   "outputs": [],
   "source": [
    "columns_to_replace = ['model_year','cylinders','odometer','paint_color','is_4wd']\n",
    "for column in columns_to_replace:\n",
    "    data[column] = data[column].fillna('unknown')\n",
    "#replaces all unknown values with the word unknown"
   ]
  },
  {
   "cell_type": "code",
   "execution_count": 6,
   "id": "2096d932",
   "metadata": {},
   "outputs": [],
   "source": [
    "#data['model_year'] = data['price'].replace('unknown', 0.0).astype(float)\n",
    "#data['cylanders'] = data['price'].replace('unknown', 0.0).astype(float)\n",
    "#data['odometer'] = data['price'].replace('unknown', 0.0).astype(float)\n",
    "#code not needed above.  Just want to keep it as a reference\n",
    "data['is_4wd'] = data['price'].replace('unknown', 0.0).astype(float)\n",
    "#changes nothing to zero"
   ]
  },
  {
   "cell_type": "code",
   "execution_count": null,
   "id": "0bc4afa6",
   "metadata": {},
   "outputs": [],
   "source": [
    "data['model_year'] = data['model_year'].fillna( data.groupby(['model'])['model_year'].transform('median'))\n",
    "data['cylinders'] = data['cylinders'].fillna( data.groupby(['cylinder'])['cylinders'].transform('median'))\n",
    "data['odometer'] = data['odometer'].fillna( data.groupby(['mileage'])['odometer'].transform('median'))\n",
    "#replaces all unknown values with the median of the values in the chart"
   ]
  },
  {
   "cell_type": "code",
   "execution_count": 7,
   "id": "fcfb63bf",
   "metadata": {},
   "outputs": [
    {
     "data": {
      "text/plain": [
       "price           0\n",
       "model_year      0\n",
       "model           0\n",
       "condition       0\n",
       "cylinders       0\n",
       "fuel            0\n",
       "odometer        0\n",
       "transmission    0\n",
       "type            0\n",
       "paint_color     0\n",
       "is_4wd          0\n",
       "date_posted     0\n",
       "days_listed     0\n",
       "cylanders       0\n",
       "dtype: int64"
      ]
     },
     "execution_count": 7,
     "metadata": {},
     "output_type": "execute_result"
    }
   ],
   "source": [
    "data.isna().sum()\n",
    "#check to see if the previous function worked"
   ]
  },
  {
   "cell_type": "code",
   "execution_count": 8,
   "id": "9b8cbf36",
   "metadata": {},
   "outputs": [
    {
     "data": {
      "text/plain": [
       "0"
      ]
     },
     "execution_count": 8,
     "metadata": {},
     "output_type": "execute_result"
    }
   ],
   "source": [
    "data.duplicated().sum()\n",
    "#to check if the data has any duplicates. There are no doubles"
   ]
  },
  {
   "cell_type": "code",
   "execution_count": 9,
   "id": "f10d3346",
   "metadata": {},
   "outputs": [
    {
     "data": {
      "text/plain": [
       "array(['acura tl', 'bmw x5', 'buick enclave', 'cadillac escalade',\n",
       "       'chevrolet camaro', 'chevrolet camaro lt coupe 2d',\n",
       "       'chevrolet colorado', 'chevrolet corvette', 'chevrolet cruze',\n",
       "       'chevrolet equinox', 'chevrolet impala', 'chevrolet malibu',\n",
       "       'chevrolet silverado', 'chevrolet silverado 1500',\n",
       "       'chevrolet silverado 1500 crew', 'chevrolet silverado 2500hd',\n",
       "       'chevrolet silverado 3500hd', 'chevrolet suburban',\n",
       "       'chevrolet tahoe', 'chevrolet trailblazer', 'chevrolet traverse',\n",
       "       'chrysler 200', 'chrysler 300', 'chrysler town & country',\n",
       "       'dodge charger', 'dodge dakota', 'dodge grand caravan',\n",
       "       'ford econoline', 'ford edge', 'ford escape', 'ford expedition',\n",
       "       'ford explorer', 'ford f-150', 'ford f-250', 'ford f-250 sd',\n",
       "       'ford f-250 super duty', 'ford f-350 sd', 'ford f150',\n",
       "       'ford f150 supercrew cab xlt', 'ford f250', 'ford f250 super duty',\n",
       "       'ford f350', 'ford f350 super duty', 'ford focus', 'ford focus se',\n",
       "       'ford fusion', 'ford fusion se', 'ford mustang',\n",
       "       'ford mustang gt coupe 2d', 'ford ranger', 'ford taurus',\n",
       "       'gmc acadia', 'gmc sierra', 'gmc sierra 1500', 'gmc sierra 2500hd',\n",
       "       'gmc yukon', 'honda accord', 'honda civic', 'honda civic lx',\n",
       "       'honda cr-v', 'honda odyssey', 'honda pilot', 'hyundai elantra',\n",
       "       'hyundai santa fe', 'hyundai sonata', 'jeep cherokee',\n",
       "       'jeep grand cherokee', 'jeep grand cherokee laredo',\n",
       "       'jeep liberty', 'jeep wrangler', 'jeep wrangler unlimited',\n",
       "       'kia sorento', 'kia soul', 'mercedes-benz benze sprinter 2500',\n",
       "       'nissan altima', 'nissan frontier', 'nissan frontier crew cab sv',\n",
       "       'nissan maxima', 'nissan murano', 'nissan rogue', 'nissan sentra',\n",
       "       'nissan versa', 'ram 1500', 'ram 2500', 'ram 3500',\n",
       "       'subaru forester', 'subaru impreza', 'subaru outback',\n",
       "       'toyota 4runner', 'toyota camry', 'toyota camry le',\n",
       "       'toyota corolla', 'toyota highlander', 'toyota prius',\n",
       "       'toyota rav4', 'toyota sienna', 'toyota tacoma', 'toyota tundra',\n",
       "       'volkswagen jetta', 'volkswagen passat'], dtype=object)"
      ]
     },
     "execution_count": 9,
     "metadata": {},
     "output_type": "execute_result"
    }
   ],
   "source": [
    "data['model'].sort_values().unique()\n",
    "#went through list of model names to check if any are spelled incorrectly. none are spelled incorrectly."
   ]
  },
  {
   "cell_type": "code",
   "execution_count": 10,
   "id": "dfe456e0",
   "metadata": {},
   "outputs": [
    {
     "data": {
      "text/plain": [
       "Index(['price', 'model_year', 'model', 'condition', 'cylinders', 'fuel',\n",
       "       'odometer', 'transmission', 'type', 'paint_color', 'is_4wd',\n",
       "       'date_posted', 'days_listed', 'cylanders'],\n",
       "      dtype='object')"
      ]
     },
     "execution_count": 10,
     "metadata": {},
     "output_type": "execute_result"
    }
   ],
   "source": [
    "#determins the titles of the columns. Columns are in the appropriate snake_case\n",
    "data.columns"
   ]
  },
  {
   "cell_type": "code",
   "execution_count": 11,
   "id": "fcae08c9",
   "metadata": {},
   "outputs": [],
   "source": [
    "#to create a new csv file for the cleaned data\n",
    "data.to_csv('cleaned_vehicles_us.csv', index = True)"
   ]
  },
  {
   "cell_type": "code",
   "execution_count": 13,
   "id": "8d3d812d",
   "metadata": {},
   "outputs": [
    {
     "name": "stderr",
     "output_type": "stream",
     "text": [
      "2023-04-26 21:17:59.621 \n",
      "  \u001b[33m\u001b[1mWarning:\u001b[0m to view this Streamlit app on a browser, run it with the following\n",
      "  command:\n",
      "\n",
      "    streamlit run /Users/coopermigden/anaconda3/lib/python3.10/site-packages/ipykernel_launcher.py [ARGUMENTS]\n"
     ]
    },
    {
     "data": {
      "text/plain": [
       "DeltaGenerator()"
      ]
     },
     "execution_count": 13,
     "metadata": {},
     "output_type": "execute_result"
    }
   ],
   "source": [
    "st.title('##Car Sales Data')"
   ]
  },
  {
   "cell_type": "code",
   "execution_count": 14,
   "id": "16b239a1",
   "metadata": {},
   "outputs": [],
   "source": [
    "st.write(data.head())\n",
    "#displays data table"
   ]
  },
  {
   "cell_type": "code",
   "execution_count": 15,
   "id": "0e5e9f0c",
   "metadata": {},
   "outputs": [
    {
     "data": {
      "text/plain": [
       "DeltaGenerator()"
      ]
     },
     "execution_count": 15,
     "metadata": {},
     "output_type": "execute_result"
    }
   ],
   "source": [
    "st.header('#Interactive Scatterplot')"
   ]
  },
  {
   "cell_type": "code",
   "execution_count": 16,
   "id": "cd227e6f",
   "metadata": {},
   "outputs": [],
   "source": [
    "def interactive_plot(data):\n",
    "    x_axis_val = st.selectbox('Select X-Axis Value', options=data.columns)\n",
    "    y_axis_val = st.selectbox('Select Y-Axis Value', options=data.columns)\n",
    "    \n",
    "    plot = px.scatter(data,x=x_axis_val,y=y_axis_val)\n",
    "    st.plotly_chart(plot)\n",
    "#This is a function that creates a scatterplot in which the user is able to choose the x and y axis based upon the columns in the data dataframe."
   ]
  },
  {
   "cell_type": "code",
   "execution_count": 17,
   "id": "21894b71",
   "metadata": {},
   "outputs": [],
   "source": [
    "interactive_plot(data)"
   ]
  },
  {
   "cell_type": "code",
   "execution_count": 18,
   "id": "c9826497",
   "metadata": {},
   "outputs": [
    {
     "data": {
      "text/plain": [
       "DeltaGenerator()"
      ]
     },
     "execution_count": 18,
     "metadata": {},
     "output_type": "execute_result"
    }
   ],
   "source": [
    "st.header('Interactive Historgram')"
   ]
  },
  {
   "cell_type": "code",
   "execution_count": 19,
   "id": "18e148a4",
   "metadata": {},
   "outputs": [
    {
     "data": {
      "text/plain": [
       "DeltaGenerator()"
      ]
     },
     "execution_count": 19,
     "metadata": {},
     "output_type": "execute_result"
    }
   ],
   "source": [
    "st.header('Histogram Via Type of Car and Price')\n",
    "color_opt=st.checkbox('Please select this checkbox if you want this graph to have color.')\n",
    "color ='type' if color_opt else None\n",
    "#determines if the graph has color\n",
    "\n",
    "hist =px.histogram(data_frame=data,x='type',y='price',color=color)\n",
    "\n",
    "st.plotly_chart(hist)\n",
    "#This is a function that creates a histogram that looks at the type of car in this data set."
   ]
  },
  {
   "cell_type": "markdown",
   "id": "abde2340",
   "metadata": {},
   "source": [
    "Final conclusions\n"
   ]
  }
 ],
 "metadata": {
  "kernelspec": {
   "display_name": "Python 3 (ipykernel)",
   "language": "python",
   "name": "python3"
  },
  "language_info": {
   "codemirror_mode": {
    "name": "ipython",
    "version": 3
   },
   "file_extension": ".py",
   "mimetype": "text/x-python",
   "name": "python",
   "nbconvert_exporter": "python",
   "pygments_lexer": "ipython3",
   "version": "3.10.9"
  }
 },
 "nbformat": 4,
 "nbformat_minor": 5
}
